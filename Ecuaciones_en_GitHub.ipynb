{
 "cells": [
  {
   "cell_type": "markdown",
   "metadata": {},
   "source": [
    "# Evaluation and simplification"
   ]
  },
  {
   "cell_type": "markdown",
   "metadata": {},
   "source": [
    "Finally we reach the most important stage of symbolic computation: automated symbolic manipulations. We will see how to perform different simplifications in our expressions and how to set up substitution rules."
   ]
  },
  {
   "cell_type": "code",
   "execution_count": 4,
   "metadata": {
    "ExecuteTime": {
     "end_time": "2019-10-08T12:37:25.178721Z",
     "start_time": "2019-10-08T12:37:24.669065Z"
    }
   },
   "outputs": [],
   "source": [
    "from sympy import *\n",
    "init_printing()  # import the best printer available\n",
    "x, y, z, t = symbols('x y z t')\n",
    "k, m, n = symbols('k m n', integer=True)\n",
    "f, g, h = symbols('f g h', cls=Function)"
   ]
  },
  {
   "cell_type": "markdown",
   "metadata": {},
   "source": [
    "### Writing simple fuctions"
   ]
  },
  {
   "cell_type": "markdown",
   "metadata": {},
   "source": [
    " In this section we will start defining a simple function"
   ]
  },
  {
   "cell_type": "code",
   "execution_count": 5,
   "metadata": {
    "ExecuteTime": {
     "end_time": "2019-10-08T12:37:26.613367Z",
     "start_time": "2019-10-08T12:37:26.605641Z"
    }
   },
   "outputs": [],
   "source": [
    "def my_function(x, A=1, B=0):\n",
    "    \"\"\"\n",
    "    This line is the documentation of the function.\n",
    "    \n",
    "    Optional arguments:\n",
    "        - A: polynomial part (default: A=1)\n",
    "        - B: trigonometric part (default: B=0)\n",
    "    \"\"\"\n",
    "    m = 2   # this variable belongs to the function, we cannot use it outside\n",
    "    \n",
    "    return A*x*(x-1)**2*(x+3) + B*(cos(m*x) + sin(x)*cos(x) + sin(x)**m)"
   ]
  },
  {
   "cell_type": "markdown",
   "metadata": {},
   "source": [
    "with this syntax, the variables A, B are optional parameters. We can call the function without them and their default value is asigned"
   ]
  },
  {
   "cell_type": "code",
   "execution_count": 6,
   "metadata": {
    "ExecuteTime": {
     "end_time": "2019-10-08T12:37:28.377684Z",
     "start_time": "2019-10-08T12:37:28.214346Z"
    }
   },
   "outputs": [
    {
     "data": {
      "image/png": "[encoded data removed]",
      "text/latex": [
       "$\\displaystyle x \\left(x - 1\\right)^{2} \\left(x + 3\\right)$"
      ],
      "text/plain": [
       "         2        \n",
       "x⋅(x - 1) ⋅(x + 3)"
      ]
     },
     "execution_count": 6,
     "metadata": {},
     "output_type": "execute_result"
    }
   ],
   "source": [
    "my_function(x)"
   ]
  },
  {
   "cell_type": "markdown",
   "metadata": {},
   "source": [
    "or we can modify their value"
   ]
  },
  {
   "cell_type": "code",
   "execution_count": 7,
   "metadata": {
    "ExecuteTime": {
     "end_time": "2019-10-08T12:37:29.574021Z",
     "start_time": "2019-10-08T12:37:29.424095Z"
    }
   },
   "outputs": [
    {
     "data": {
      "image/png": "[encoded data removed]",
      "text/latex": [
       "$\\displaystyle 0$"
      ],
      "text/plain": [
       "0"
      ]
     },
     "execution_count": 7,
     "metadata": {},
     "output_type": "execute_result"
    }
   ],
   "source": [
    "my_function(x, A=0)"
   ]
  },
  {
   "cell_type": "markdown",
   "metadata": {},
   "source": [
    "As long as we respect the order, we can modify their value without an explicit asignment"
   ]
  },
  {
   "cell_type": "code",
   "execution_count": 8,
   "metadata": {
    "ExecuteTime": {
     "end_time": "2019-10-08T12:37:30.678846Z",
     "start_time": "2019-10-08T12:37:30.518307Z"
    }
   },
   "outputs": [
    {
     "data": {
      "image/png": "[encoded data removed]",
      "text/latex": [
       "$\\displaystyle \\sin^{2}{\\left(x \\right)} + \\sin{\\left(x \\right)} \\cos{\\left(x \\right)} + \\cos{\\left(2 x \\right)}$"
      ],
      "text/plain": [
       "   2                              \n",
       "sin (x) + sin(x)⋅cos(x) + cos(2⋅x)"
      ]
     },
     "execution_count": 8,
     "metadata": {},
     "output_type": "execute_result"
    }
   ],
   "source": [
    "my_function(x, 0, 1)"
   ]
  },
  {
   "cell_type": "markdown",
   "metadata": {},
   "source": [
    "We will use this function to test different operations."
   ]
  },
  {
   "cell_type": "markdown",
   "metadata": {},
   "source": [
    "### Simplification and substitution "
   ]
  },
  {
   "cell_type": "markdown",
   "metadata": {},
   "source": [
    "Again, our model function is"
   ]
  },
  {
   "cell_type": "code",
   "execution_count": 9,
   "metadata": {
    "ExecuteTime": {
     "end_time": "2019-10-08T12:37:32.601451Z",
     "start_time": "2019-10-08T12:37:32.440988Z"
    }
   },
   "outputs": [
    {
     "data": {
      "image/png": "[encoded data removed]",
      "text/latex": [
       "$\\displaystyle x \\left(x - 1\\right)^{2} \\left(x + 3\\right) + \\sin^{2}{\\left(x \\right)} + \\sin{\\left(x \\right)} \\cos{\\left(x \\right)} + \\cos{\\left(2 x \\right)}$"
      ],
      "text/plain": [
       "         2              2                              \n",
       "x⋅(x - 1) ⋅(x + 3) + sin (x) + sin(x)⋅cos(x) + cos(2⋅x)"
      ]
     },
     "execution_count": 9,
     "metadata": {},
     "output_type": "execute_result"
    }
   ],
   "source": [
    "expr = my_function(x, 1, 1)\n",
    "expr"
   ]
  },
  {
   "cell_type": "markdown",
   "metadata": {},
   "source": [
    "The easiest way of symplifying this expression is"
   ]
  },
  {
   "cell_type": "code",
   "execution_count": 10,
   "metadata": {
    "ExecuteTime": {
     "end_time": "2019-10-08T12:37:33.731443Z",
     "start_time": "2019-10-08T12:37:33.451871Z"
    }
   },
   "outputs": [
    {
     "data": {
      "image/png": "[encoded data removed]",
      "text/latex": [
       "$\\displaystyle x^{4} + x^{3} - 5 x^{2} + 3 x + \\frac{\\sqrt{2} \\sin{\\left(2 x + \\frac{\\pi}{4} \\right)}}{2} + \\frac{1}{2}$"
      ],
      "text/plain": [
       "                             ⎛      π⎞    \n",
       "                       √2⋅sin⎜2⋅x + ─⎟    \n",
       " 4    3      2               ⎝      4⎠   1\n",
       "x  + x  - 5⋅x  + 3⋅x + ─────────────── + ─\n",
       "                              2          2"
      ]
     },
     "execution_count": 10,
     "metadata": {},
     "output_type": "execute_result"
    }
   ],
   "source": [
    "expr.simplify()"
   ]
  },
  {
   "cell_type": "markdown",
   "metadata": {},
   "source": [
    "`simplify` performs all the types of simplifications that SymPy can think about, keep in mind that we may not want to perform all the simplifications or it can be too time-consuming. We will see more specific tools later on. Another common operation is the substitution of one expression or symbol by another"
   ]
  },
  {
   "cell_type": "code",
   "execution_count": 11,
   "metadata": {
    "ExecuteTime": {
     "end_time": "2019-10-08T12:37:35.402223Z",
     "start_time": "2019-10-08T12:37:35.241583Z"
    }
   },
   "outputs": [
    {
     "data": {
      "image/png": "[encoded data removed]",
      "text/latex": [
       "$\\displaystyle \\sin{\\left(3 \\right)} \\cos{\\left(3 \\right)} + \\sin^{2}{\\left(3 \\right)} + \\cos{\\left(6 \\right)} + 72$"
      ],
      "text/plain": [
       "                   2                 \n",
       "sin(3)⋅cos(3) + sin (3) + cos(6) + 72"
      ]
     },
     "execution_count": 11,
     "metadata": {},
     "output_type": "execute_result"
    }
   ],
   "source": [
    "expr.subs(x, 3)"
   ]
  },
  {
   "cell_type": "markdown",
   "metadata": {},
   "source": [
    "in this case, the effect of the substitution is the same as calling our function with different arguments"
   ]
  },
  {
   "cell_type": "code",
   "execution_count": 12,
   "metadata": {
    "ExecuteTime": {
     "end_time": "2019-10-08T12:37:59.876540Z",
     "start_time": "2019-10-08T12:37:59.723823Z"
    }
   },
   "outputs": [
    {
     "data": {
      "image/png": "[encoded data removed]",
      "text/latex": [
       "$\\displaystyle \\sin{\\left(3 \\right)} \\cos{\\left(3 \\right)} + \\sin^{2}{\\left(3 \\right)} + \\cos{\\left(6 \\right)} + 72$"
      ],
      "text/plain": [
       "                   2                 \n",
       "sin(3)⋅cos(3) + sin (3) + cos(6) + 72"
      ]
     },
     "execution_count": 12,
     "metadata": {},
     "output_type": "execute_result"
    }
   ],
   "source": [
    "my_function(3, 1, 1)"
   ]
  },
  {
   "cell_type": "markdown",
   "metadata": {},
   "source": [
    "But we can perform all kind of non-trivial substitutions and create lists of replacements, like in the following example"
   ]
  },
  {
   "cell_type": "code",
   "execution_count": 13,
   "metadata": {
    "ExecuteTime": {
     "end_time": "2019-10-08T12:38:01.975303Z",
     "start_time": "2019-10-08T12:38:01.733599Z"
    }
   },
   "outputs": [
    {
     "data": {
      "image/png": "[encoded data removed]",
      "text/latex": [
       "$\\displaystyle x^{3} + 3 x + y^{4} - 5 y^{2} + \\frac{\\sqrt{2} \\sin{\\left(2 x + \\frac{\\pi}{4} \\right)}}{2} + \\frac{1}{2}$"
      ],
      "text/plain": [
       "                             ⎛      π⎞    \n",
       "                       √2⋅sin⎜2⋅x + ─⎟    \n",
       " 3          4      2         ⎝      4⎠   1\n",
       "x  + 3⋅x + y  - 5⋅y  + ─────────────── + ─\n",
       "                              2          2"
      ]
     },
     "execution_count": 13,
     "metadata": {},
     "output_type": "execute_result"
    }
   ],
   "source": [
    "replacements = [(x**i, y**i) for i in range(1, 4) if i%2 == 0]\n",
    "expr.simplify().subs(replacements)"
   ]
  },
  {
   "cell_type": "markdown",
   "metadata": {},
   "source": [
    "only the even powers of $x$ have been substituted."
   ]
  },
  {
   "cell_type": "markdown",
   "metadata": {},
   "source": [
    "### Evaluation"
   ]
  },
  {
   "cell_type": "markdown",
   "metadata": {},
   "source": [
    "Once we have a symbolic expression we may want to evaluate it at some points to extract some numbers. One way of doing this is through the `subs` method and using the `evalf` method, as illustrated below"
   ]
  },
  {
   "cell_type": "code",
   "execution_count": 14,
   "metadata": {
    "ExecuteTime": {
     "end_time": "2019-10-08T12:38:06.036229Z",
     "start_time": "2019-10-08T12:38:05.874986Z"
    }
   },
   "outputs": [
    {
     "data": {
      "image/png": "[encoded data removed]",
      "text/latex": [
       "$\\displaystyle \\alpha x \\left(x - 1\\right)^{2} \\left(x + 3\\right) + \\beta \\left(\\sin^{2}{\\left(x \\right)} + \\sin{\\left(x \\right)} \\cos{\\left(x \\right)} + \\cos{\\left(2 x \\right)}\\right)$"
      ],
      "text/plain": [
       "           2             ⎛   2                              ⎞\n",
       "α⋅x⋅(x - 1) ⋅(x + 3) + β⋅⎝sin (x) + sin(x)⋅cos(x) + cos(2⋅x)⎠"
      ]
     },
     "execution_count": 14,
     "metadata": {},
     "output_type": "execute_result"
    }
   ],
   "source": [
    "a, b = symbols('alpha, beta')\n",
    "expr = my_function(x, a, b)\n",
    "expr"
   ]
  },
  {
   "cell_type": "code",
   "execution_count": 15,
   "metadata": {
    "ExecuteTime": {
     "end_time": "2019-10-08T12:38:09.565600Z",
     "start_time": "2019-10-08T12:38:09.401708Z"
    }
   },
   "outputs": [
    {
     "data": {
      "image/png": "[encoded data removed]",
      "text/latex": [
       "$\\displaystyle \\sin{\\left(3 \\right)} \\cos{\\left(3 \\right)} + \\sin^{2}{\\left(3 \\right)} + \\cos{\\left(6 \\right)} + 72$"
      ],
      "text/plain": [
       "                   2                 \n",
       "sin(3)⋅cos(3) + sin (3) + cos(6) + 72"
      ]
     },
     "execution_count": 15,
     "metadata": {},
     "output_type": "execute_result"
    }
   ],
   "source": [
    "value = expr.subs(a, 1).subs(b, 1).subs(x, 3)\n",
    "value"
   ]
  },
  {
   "cell_type": "code",
   "execution_count": 16,
   "metadata": {
    "ExecuteTime": {
     "end_time": "2019-10-08T12:38:10.203711Z",
     "start_time": "2019-10-08T12:38:10.051725Z"
    }
   },
   "outputs": [
    {
     "data": {
      "image/png": "[encoded data removed]",
      "text/latex": [
       "$\\displaystyle 72.8403773942257$"
      ],
      "text/plain": [
       "72.8403773942257"
      ]
     },
     "execution_count": 16,
     "metadata": {},
     "output_type": "execute_result"
    }
   ],
   "source": [
    "value.evalf()"
   ]
  },
  {
   "cell_type": "markdown",
   "metadata": {},
   "source": [
    "A shorter way, to perform the same task, is to define a dictionary of points where the function is to be evaluated and pass it to the evalf() method"
   ]
  },
  {
   "cell_type": "code",
   "execution_count": 17,
   "metadata": {
    "ExecuteTime": {
     "end_time": "2019-10-08T12:38:11.545393Z",
     "start_time": "2019-10-08T12:38:11.390798Z"
    }
   },
   "outputs": [
    {
     "data": {
      "image/png": "[encoded data removed]",
      "text/latex": [
       "$\\displaystyle 72.8403773942257$"
      ],
      "text/plain": [
       "72.8403773942257"
      ]
     },
     "execution_count": 17,
     "metadata": {},
     "output_type": "execute_result"
    }
   ],
   "source": [
    "points = {x : 3, a : 1, b : 1}  # dictionary of points -> remember the definition!, e.g. points[x] = 3 ...\n",
    "expr.evalf(subs = points)"
   ]
  },
  {
   "cell_type": "markdown",
   "metadata": {},
   "source": [
    "This is a possibility for a small number of points, but it will **not** be our preferred choice. See the Lambdify section below."
   ]
  },
  {
   "cell_type": "markdown",
   "metadata": {},
   "source": [
    "#### Lambdify"
   ]
  },
  {
   "cell_type": "markdown",
   "metadata": {},
   "source": [
    "In this section we will see how to convert a symbolic function into an efficient 'numeric' function. As before, we start with our SymPy function"
   ]
  },
  {
   "cell_type": "code",
   "execution_count": 18,
   "metadata": {
    "ExecuteTime": {
     "end_time": "2019-10-08T12:38:18.116102Z",
     "start_time": "2019-10-08T12:38:17.748715Z"
    }
   },
   "outputs": [
    {
     "data": {
      "image/png": "[encoded data removed]",
      "text/latex": [
       "$\\displaystyle 12 \\alpha x^{2} + 6 \\alpha x - 10 \\alpha - 2 \\sqrt{2} \\beta \\sin{\\left(2 x + \\frac{\\pi}{4} \\right)}$"
      ],
      "text/plain": [
       "      2                            ⎛      π⎞\n",
       "12⋅α⋅x  + 6⋅α⋅x - 10⋅α - 2⋅√2⋅β⋅sin⎜2⋅x + ─⎟\n",
       "                                   ⎝      4⎠"
      ]
     },
     "execution_count": 18,
     "metadata": {},
     "output_type": "execute_result"
    }
   ],
   "source": [
    "sym_function = expr.diff(x, 2).simplify()\n",
    "sym_function"
   ]
  },
  {
   "cell_type": "markdown",
   "metadata": {},
   "source": [
    "Importing the module NumPy"
   ]
  },
  {
   "cell_type": "code",
   "execution_count": 19,
   "metadata": {
    "ExecuteTime": {
     "end_time": "2019-10-08T12:38:19.256775Z",
     "start_time": "2019-10-08T12:38:19.252571Z"
    }
   },
   "outputs": [],
   "source": [
    "import numpy as np"
   ]
  },
  {
   "cell_type": "markdown",
   "metadata": {},
   "source": [
    "we can use the `lambdify` function to cast a SymPy function into a NumPy function"
   ]
  },
  {
   "cell_type": "code",
   "execution_count": 20,
   "metadata": {
    "ExecuteTime": {
     "end_time": "2019-10-08T12:38:20.693129Z",
     "start_time": "2019-10-08T12:38:20.534923Z"
    }
   },
   "outputs": [
    {
     "data": {
      "image/png": "[encoded data removed]",
      "text/latex": [
       "$\\displaystyle 121.70921690269736$"
      ],
      "text/plain": [
       "121.70921690269736"
      ]
     },
     "execution_count": 20,
     "metadata": {},
     "output_type": "execute_result"
    }
   ],
   "source": [
    "num_function = lambdify((x, a, b), sym_function, \"numpy\")\n",
    "num_function(3.12, 1, 2)"
   ]
  },
  {
   "cell_type": "markdown",
   "metadata": {},
   "source": [
    "The main advantage of NumPy is, in simple terms, that it accepts vectors as arguments and evaluates them in a really efficient way."
   ]
  },
  {
   "cell_type": "code",
   "execution_count": 21,
   "metadata": {
    "ExecuteTime": {
     "end_time": "2019-10-08T12:38:22.656987Z",
     "start_time": "2019-10-08T12:38:22.647142Z"
    }
   },
   "outputs": [
    {
     "data": {
      "text/plain": [
       "array([0, 1, 2, 3, 4, 5, 6, 7, 8, 9])"
      ]
     },
     "execution_count": 21,
     "metadata": {},
     "output_type": "execute_result"
    }
   ],
   "source": [
    "args = np.arange(10)\n",
    "args"
   ]
  },
  {
   "cell_type": "code",
   "execution_count": 22,
   "metadata": {
    "ExecuteTime": {
     "end_time": "2019-10-08T12:38:23.573507Z",
     "start_time": "2019-10-08T12:38:23.564359Z"
    }
   },
   "outputs": [
    {
     "data": {
      "text/plain": [
       "array([ -14.        ,    6.02739764,   55.64178446,  113.27698085,\n",
       "        202.62456715,  325.53237056,  456.77087584,  615.4906217 ,\n",
       "        810.98225119, 1016.36268215])"
      ]
     },
     "execution_count": 22,
     "metadata": {},
     "output_type": "execute_result"
    }
   ],
   "source": [
    "num_function(args, 1, 2)"
   ]
  },
  {
   "cell_type": "markdown",
   "metadata": {},
   "source": [
    "### Refined simplification"
   ]
  },
  {
   "cell_type": "markdown",
   "metadata": {},
   "source": [
    "This section is simple enough. You can skim through it and use each function as you need it. All you need to keep in mind is that `simplify` is not the end of the story."
   ]
  },
  {
   "cell_type": "markdown",
   "metadata": {},
   "source": [
    "#### Polynomial"
   ]
  },
  {
   "cell_type": "code",
   "execution_count": 23,
   "metadata": {
    "ExecuteTime": {
     "end_time": "2019-10-08T12:38:25.805985Z",
     "start_time": "2019-10-08T12:38:25.647632Z"
    }
   },
   "outputs": [
    {
     "data": {
      "image/png": "[encoded data removed]",
      "text/latex": [
       "$\\displaystyle x \\left(x - 1\\right)^{2} \\left(x + 3\\right)$"
      ],
      "text/plain": [
       "         2        \n",
       "x⋅(x - 1) ⋅(x + 3)"
      ]
     },
     "execution_count": 23,
     "metadata": {},
     "output_type": "execute_result"
    }
   ],
   "source": [
    "expr = my_function(x)\n",
    "expr"
   ]
  },
  {
   "cell_type": "code",
   "execution_count": 24,
   "metadata": {
    "ExecuteTime": {
     "end_time": "2019-10-08T12:38:27.052186Z",
     "start_time": "2019-10-08T12:38:26.886976Z"
    }
   },
   "outputs": [
    {
     "data": {
      "image/png": "[encoded data removed]",
      "text/latex": [
       "$\\displaystyle \\alpha x^{2} + 3 \\beta x + x^{4} + x^{3} - 5 x^{2} + 3 x$"
      ],
      "text/plain": [
       "   2            4    3      2      \n",
       "α⋅x  + 3⋅β⋅x + x  + x  - 5⋅x  + 3⋅x"
      ]
     },
     "execution_count": 24,
     "metadata": {},
     "output_type": "execute_result"
    }
   ],
   "source": [
    "expanded_function = expand(expr) + a*x**2 + 3*b*x\n",
    "expanded_function"
   ]
  },
  {
   "cell_type": "code",
   "execution_count": 25,
   "metadata": {
    "ExecuteTime": {
     "end_time": "2019-10-08T12:38:28.270666Z",
     "start_time": "2019-10-08T12:38:28.107328Z"
    }
   },
   "outputs": [
    {
     "data": {
      "image/png": "[encoded data removed]",
      "text/latex": [
       "$\\displaystyle x \\left(\\alpha x + 3 \\beta + x^{3} + x^{2} - 5 x + 3\\right)$"
      ],
      "text/plain": [
       "  ⎛             3    2          ⎞\n",
       "x⋅⎝α⋅x + 3⋅β + x  + x  - 5⋅x + 3⎠"
      ]
     },
     "execution_count": 25,
     "metadata": {},
     "output_type": "execute_result"
    }
   ],
   "source": [
    "factor(expanded_function)"
   ]
  },
  {
   "cell_type": "code",
   "execution_count": 26,
   "metadata": {
    "ExecuteTime": {
     "end_time": "2019-10-08T12:38:29.049712Z",
     "start_time": "2019-10-08T12:38:28.887292Z"
    }
   },
   "outputs": [
    {
     "data": {
      "image/png": "[encoded data removed]",
      "text/latex": [
       "$\\displaystyle x^{4} + x^{3} + x^{2} \\left(\\alpha - 5\\right) + x \\left(3 \\beta + 3\\right)$"
      ],
      "text/plain": [
       " 4    3    2                      \n",
       "x  + x  + x ⋅(α - 5) + x⋅(3⋅β + 3)"
      ]
     },
     "execution_count": 26,
     "metadata": {},
     "output_type": "execute_result"
    }
   ],
   "source": [
    "collected_function = collect(expanded_function, x)\n",
    "collected_function"
   ]
  },
  {
   "cell_type": "code",
   "execution_count": 27,
   "metadata": {
    "ExecuteTime": {
     "end_time": "2019-10-08T12:38:29.737083Z",
     "start_time": "2019-10-08T12:38:29.589923Z"
    }
   },
   "outputs": [
    {
     "data": {
      "image/png": "[encoded data removed]",
      "text/latex": [
       "$\\displaystyle \\alpha - 5$"
      ],
      "text/plain": [
       "α - 5"
      ]
     },
     "execution_count": 27,
     "metadata": {},
     "output_type": "execute_result"
    }
   ],
   "source": [
    "collected_function.coeff(x, 2)"
   ]
  },
  {
   "cell_type": "markdown",
   "metadata": {},
   "source": [
    "#### Trigonometric"
   ]
  },
  {
   "cell_type": "code",
   "execution_count": 28,
   "metadata": {
    "ExecuteTime": {
     "end_time": "2019-10-08T12:38:31.330815Z",
     "start_time": "2019-10-08T12:38:31.162842Z"
    }
   },
   "outputs": [
    {
     "data": {
      "image/png": "[encoded data removed]",
      "text/latex": [
       "$\\displaystyle \\sin^{2}{\\left(x \\right)} + \\sin{\\left(x \\right)} \\cos{\\left(x \\right)} + \\cos{\\left(2 x \\right)}$"
      ],
      "text/plain": [
       "   2                              \n",
       "sin (x) + sin(x)⋅cos(x) + cos(2⋅x)"
      ]
     },
     "execution_count": 28,
     "metadata": {},
     "output_type": "execute_result"
    }
   ],
   "source": [
    "expr = my_function(x, 0, 1)\n",
    "expr"
   ]
  },
  {
   "cell_type": "code",
   "execution_count": 29,
   "metadata": {
    "ExecuteTime": {
     "end_time": "2019-10-08T12:38:32.088785Z",
     "start_time": "2019-10-08T12:38:31.929844Z"
    }
   },
   "outputs": [
    {
     "data": {
      "image/png": "[encoded data removed]",
      "text/latex": [
       "$\\displaystyle \\sin^{2}{\\left(x \\right)} + \\sin{\\left(x \\right)} \\cos{\\left(x \\right)} + 2 \\cos^{2}{\\left(x \\right)} - 1$"
      ],
      "text/plain": [
       "   2                           2       \n",
       "sin (x) + sin(x)⋅cos(x) + 2⋅cos (x) - 1"
      ]
     },
     "execution_count": 29,
     "metadata": {},
     "output_type": "execute_result"
    }
   ],
   "source": [
    "expand_trig(expr)"
   ]
  },
  {
   "cell_type": "code",
   "execution_count": 30,
   "metadata": {
    "ExecuteTime": {
     "end_time": "2019-10-08T12:38:33.161738Z",
     "start_time": "2019-10-08T12:38:32.969729Z"
    }
   },
   "outputs": [
    {
     "data": {
      "image/png": "[encoded data removed]",
      "text/latex": [
       "$\\displaystyle \\frac{\\sqrt{2} \\sin{\\left(2 x + \\frac{\\pi}{4} \\right)}}{2} + \\frac{1}{2}$"
      ],
      "text/plain": [
       "      ⎛      π⎞    \n",
       "√2⋅sin⎜2⋅x + ─⎟    \n",
       "      ⎝      4⎠   1\n",
       "─────────────── + ─\n",
       "       2          2"
      ]
     },
     "execution_count": 30,
     "metadata": {},
     "output_type": "execute_result"
    }
   ],
   "source": [
    "trigsimp(expr)"
   ]
  },
  {
   "cell_type": "markdown",
   "metadata": {},
   "source": [
    "Note that there are similar expressions for powers, logarithms and rational functions, check the documentation for more details."
   ]
  }
 ],
 "metadata": {
  "kernelspec": {
   "display_name": "Python 3",
   "language": "python",
   "name": "python3"
  },
  "language_info": {
   "codemirror_mode": {
    "name": "ipython",
    "version": 3
   },
   "file_extension": ".py",
   "mimetype": "text/x-python",
   "name": "python",
   "nbconvert_exporter": "python",
   "pygments_lexer": "ipython3",
   "version": "3.5.5"
  },
  "varInspector": {
   "cols": {
    "lenName": 16,
    "lenType": 16,
    "lenVar": 40
   },
   "kernels_config": {
    "python": {
     "delete_cmd_postfix": "",
     "delete_cmd_prefix": "del ",
     "library": "var_list.py",
     "varRefreshCmd": "print(var_dic_list())"
    },
    "r": {
     "delete_cmd_postfix": ") ",
     "delete_cmd_prefix": "rm(",
     "library": "var_list.r",
     "varRefreshCmd": "cat(var_dic_list()) "
    }
   },
   "types_to_exclude": [
    "module",
    "function",
    "builtin_function_or_method",
    "instance",
    "_Feature"
   ],
   "window_display": false
  }
 },
 "nbformat": 4,
 "nbformat_minor": 2
}
